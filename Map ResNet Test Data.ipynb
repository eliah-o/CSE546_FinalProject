{
 "cells": [
  {
   "cell_type": "markdown",
   "metadata": {},
   "source": [
    "## Using software package minimap2"
   ]
  },
  {
   "cell_type": "code",
   "execution_count": 16,
   "metadata": {},
   "outputs": [],
   "source": [
    "# Extract the first 4820 reads\n",
    "\n",
    "!mkdir -p resnextcard8_test_fastqs\n",
    "\n",
    "!find ../test_data/output/result/ -maxdepth 1 -type f |tail -4820 |xargs cp -t resnextcard8_test_fastqs"
   ]
  },
  {
   "cell_type": "code",
   "execution_count": 12,
   "metadata": {},
   "outputs": [
    {
     "name": "stdout",
     "output_type": "stream",
     "text": [
      "[M::mm_idx_gen::4.653*1.00] collected minimizers\n",
      "[M::mm_idx_gen::5.607*1.33] sorted minimizers\n",
      "[M::main::5.607*1.33] loaded/built the index for 1 target sequence(s)\n",
      "[M::mm_mapopt_update::5.845*1.32] mid_occ = 189\n",
      "[M::mm_idx_stat] kmer size: 15; skip: 10; is_hpc: 0; #seq: 1\n",
      "[M::mm_idx_stat::6.004*1.31] distinct minimizers: 24132785 (73.47% are singletons); average occurrences: 1.759; average spacing: 5.871\n",
      "[M::worker_pipeline::8.943*1.83] mapped 4280 sequences\n",
      "[M::main] Version: 2.14-r886-dirty\n",
      "[M::main] CMD: /home/anthony/Dropbox/Nanopore/minimap2/minimap2/minimap2 -ax map-ont --cs /home/anthony/Dropbox/Nanopore/training_data/res_net/human/ref/chr1.fasta /home/anthony/Dropbox/Nanopore/chiron_test_output/result/all.fastq\n",
      "[M::main] Real time: 8.980 sec; CPU: 16.373 sec; Peak RSS: 2.630 GB\n"
     ]
    }
   ],
   "source": [
    "minimap_loc = \"/home/anthony/Dropbox/Nanopore/minimap2/minimap2/minimap2\"\n",
    "\n",
    "!mkdir -p resnet_mapped_results\n",
    "\n",
    "!$minimap_loc -ax map-ont /home/anthony/Dropbox/Nanopore/training_data/res_net/human/ref/chr1.fasta /home/anthony/Dropbox/Nanopore/chiron_test_output/result/all.fastq --cs > resnet_mapped_results/chr1_resnet.sam"
   ]
  },
  {
   "cell_type": "code",
   "execution_count": 15,
   "metadata": {},
   "outputs": [
    {
     "name": "stdout",
     "output_type": "stream",
     "text": [
      "[M::mm_idx_gen::4.756*1.00] collected minimizers\n",
      "[M::mm_idx_gen::5.642*1.31] sorted minimizers\n",
      "[M::main::5.642*1.31] loaded/built the index for 1 target sequence(s)\n",
      "[M::mm_mapopt_update::5.898*1.30] mid_occ = 169\n",
      "[M::mm_idx_stat] kmer size: 15; skip: 10; is_hpc: 0; #seq: 1\n",
      "[M::mm_idx_stat::6.084*1.29] distinct minimizers: 25485641 (72.26% are singletons); average occurrences: 1.760; average spacing: 5.420\n",
      "[M::worker_pipeline::9.096*1.79] mapped 4280 sequences\n",
      "[M::main] Version: 2.14-r886-dirty\n",
      "[M::main] CMD: /home/anthony/Dropbox/Nanopore/minimap2/minimap2/minimap2 -ax map-ont --cs /home/anthony/Dropbox/Nanopore/training_data/res_net/human/ref/chr2.fasta /home/anthony/Dropbox/Nanopore/chiron_test_output/result/all.fastq\n",
      "[M::main] Real time: 9.125 sec; CPU: 16.298 sec; Peak RSS: 2.501 GB\n",
      "[M::mm_idx_gen::4.004*1.00] collected minimizers\n",
      "[M::mm_idx_gen::4.675*1.28] sorted minimizers\n",
      "[M::main::4.676*1.28] loaded/built the index for 1 target sequence(s)\n",
      "[M::mm_mapopt_update::4.918*1.27] mid_occ = 168\n",
      "[M::mm_idx_stat] kmer size: 15; skip: 10; is_hpc: 0; #seq: 1\n",
      "[M::mm_idx_stat::5.061*1.26] distinct minimizers: 21866272 (75.02% are singletons); average occurrences: 1.678; average spacing: 5.397\n",
      "[M::worker_pipeline::7.357*1.77] mapped 4280 sequences\n",
      "[M::main] Version: 2.14-r886-dirty\n",
      "[M::main] CMD: /home/anthony/Dropbox/Nanopore/minimap2/minimap2/minimap2 -ax map-ont --cs /home/anthony/Dropbox/Nanopore/training_data/res_net/human/ref/chr3.fasta /home/anthony/Dropbox/Nanopore/chiron_test_output/result/all.fastq\n",
      "[M::main] Real time: 7.381 sec; CPU: 13.017 sec; Peak RSS: 2.024 GB\n",
      "[M::mm_idx_gen::3.786*1.00] collected minimizers\n",
      "[M::mm_idx_gen::4.565*1.34] sorted minimizers\n",
      "[M::main::4.565*1.34] loaded/built the index for 1 target sequence(s)\n",
      "[M::mm_mapopt_update::4.801*1.32] mid_occ = 169\n",
      "[M::mm_idx_stat] kmer size: 15; skip: 10; is_hpc: 0; #seq: 1\n",
      "[M::mm_idx_stat::4.953*1.31] distinct minimizers: 20769240 (74.69% are singletons); average occurrences: 1.701; average spacing: 5.411\n",
      "[M::worker_pipeline::8.088*1.90] mapped 4280 sequences\n",
      "[M::main] Version: 2.14-r886-dirty\n",
      "[M::main] CMD: /home/anthony/Dropbox/Nanopore/minimap2/minimap2/minimap2 -ax map-ont --cs /home/anthony/Dropbox/Nanopore/training_data/res_net/human/ref/chr4.fasta /home/anthony/Dropbox/Nanopore/chiron_test_output/result/all.fastq\n",
      "[M::main] Real time: 8.107 sec; CPU: 15.418 sec; Peak RSS: 2.187 GB\n"
     ]
    }
   ],
   "source": [
    "\n",
    "!$minimap_loc -ax map-ont /home/anthony/Dropbox/Nanopore/training_data/res_net/human/ref/chr2.fasta /home/anthony/Dropbox/Nanopore/chiron_test_output/result/all.fastq --cs > resnet_mapped_results/chr2_resnet.sam\n",
    "\n",
    "!$minimap_loc -ax map-ont /home/anthony/Dropbox/Nanopore/training_data/res_net/human/ref/chr3.fasta /home/anthony/Dropbox/Nanopore/chiron_test_output/result/all.fastq --cs > resnet_mapped_results/chr3_resnet.sam\n",
    "\n",
    "!$minimap_loc -ax map-ont /home/anthony/Dropbox/Nanopore/training_data/res_net/human/ref/chr4.fasta /home/anthony/Dropbox/Nanopore/chiron_test_output/result/all.fastq --cs > resnet_mapped_results/chr4_resnet.sam\n"
   ]
  },
  {
   "cell_type": "code",
   "execution_count": null,
   "metadata": {},
   "outputs": [],
   "source": []
  }
 ],
 "metadata": {
  "kernelspec": {
   "display_name": "Python 3",
   "language": "python",
   "name": "python3"
  },
  "language_info": {
   "codemirror_mode": {
    "name": "ipython",
    "version": 3
   },
   "file_extension": ".py",
   "mimetype": "text/x-python",
   "name": "python",
   "nbconvert_exporter": "python",
   "pygments_lexer": "ipython3",
   "version": "3.6.6"
  }
 },
 "nbformat": 4,
 "nbformat_minor": 2
}
