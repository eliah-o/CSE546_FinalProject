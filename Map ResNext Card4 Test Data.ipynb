{
 "cells": [
  {
   "cell_type": "code",
   "execution_count": 1,
   "metadata": {},
   "outputs": [
    {
     "name": "stdout",
     "output_type": "stream",
     "text": [
      "[M::mm_idx_gen::4.546*1.00] collected minimizers\n",
      "[M::mm_idx_gen::5.281*1.28] sorted minimizers\n",
      "[M::main::5.281*1.28] loaded/built the index for 1 target sequence(s)\n",
      "[M::mm_mapopt_update::5.499*1.27] mid_occ = 189\n",
      "[M::mm_idx_stat] kmer size: 15; skip: 10; is_hpc: 0; #seq: 1\n",
      "[M::mm_idx_stat::5.639*1.26] distinct minimizers: 24132785 (73.47% are singletons); average occurrences: 1.759; average spacing: 5.871\n",
      "[M::worker_pipeline::6.520*1.47] mapped 3239 sequences\n",
      "[M::main] Version: 2.14-r886-dirty\n",
      "[M::main] CMD: /home/anthony/Dropbox/Nanopore/minimap2/minimap2/minimap2 -ax map-ont --cs /home/anthony/Dropbox/Nanopore/training_data/res_net/human/ref/chr1.fasta /home/anthony/Dropbox/Nanopore/final_dir/test_data_card4/output/result/all.fastq\n",
      "[M::main] Real time: 6.540 sec; CPU: 9.624 sec; Peak RSS: 2.116 GB\n"
     ]
    }
   ],
   "source": [
    "minimap_loc = \"/home/anthony/Dropbox/Nanopore/minimap2/minimap2/minimap2\"\n",
    "\n",
    "!mkdir -p resnetcard4_mapped_results\n",
    "\n",
    "!$minimap_loc -ax map-ont /home/anthony/Dropbox/Nanopore/training_data/res_net/human/ref/chr1.fasta /home/anthony/Dropbox/Nanopore/final_dir/test_data_card4/output/result/all.fastq --cs > resnetcard4_mapped_results/chr1_resnetcard4.sam"
   ]
  },
  {
   "cell_type": "code",
   "execution_count": 2,
   "metadata": {},
   "outputs": [
    {
     "name": "stdout",
     "output_type": "stream",
     "text": [
      "[M::mm_idx_gen::4.679*0.99] collected minimizers\n",
      "[M::mm_idx_gen::5.485*1.29] sorted minimizers\n",
      "[M::main::5.485*1.29] loaded/built the index for 1 target sequence(s)\n",
      "[M::mm_mapopt_update::5.718*1.28] mid_occ = 169\n",
      "[M::mm_idx_stat] kmer size: 15; skip: 10; is_hpc: 0; #seq: 1\n",
      "[M::mm_idx_stat::5.895*1.27] distinct minimizers: 25485641 (72.26% are singletons); average occurrences: 1.760; average spacing: 5.420\n",
      "[M::worker_pipeline::6.976*1.50] mapped 3239 sequences\n",
      "[M::main] Version: 2.14-r886-dirty\n",
      "[M::main] CMD: /home/anthony/Dropbox/Nanopore/minimap2/minimap2/minimap2 -ax map-ont --cs /home/anthony/Dropbox/Nanopore/training_data/res_net/human/ref/chr2.fasta /home/anthony/Dropbox/Nanopore/final_dir/test_data_card4/output/result/all.fastq\n",
      "[M::main] Real time: 7.010 sec; CPU: 10.464 sec; Peak RSS: 2.234 GB\n",
      "[M::mm_idx_gen::3.850*1.00] collected minimizers\n",
      "[M::mm_idx_gen::4.483*1.28] sorted minimizers\n",
      "[M::main::4.483*1.28] loaded/built the index for 1 target sequence(s)\n",
      "[M::mm_mapopt_update::4.720*1.27] mid_occ = 168\n",
      "[M::mm_idx_stat] kmer size: 15; skip: 10; is_hpc: 0; #seq: 1\n",
      "[M::mm_idx_stat::4.863*1.26] distinct minimizers: 21866272 (75.02% are singletons); average occurrences: 1.678; average spacing: 5.397\n",
      "[M::worker_pipeline::5.879*1.53] mapped 3239 sequences\n",
      "[M::main] Version: 2.14-r886-dirty\n",
      "[M::main] CMD: /home/anthony/Dropbox/Nanopore/minimap2/minimap2/minimap2 -ax map-ont --cs /home/anthony/Dropbox/Nanopore/training_data/res_net/human/ref/chr3.fasta /home/anthony/Dropbox/Nanopore/final_dir/test_data_card4/output/result/all.fastq\n",
      "[M::main] Real time: 5.899 sec; CPU: 9.034 sec; Peak RSS: 2.032 GB\n",
      "[M::mm_idx_gen::3.639*1.00] collected minimizers\n",
      "[M::mm_idx_gen::4.246*1.28] sorted minimizers\n",
      "[M::main::4.246*1.28] loaded/built the index for 1 target sequence(s)\n",
      "[M::mm_mapopt_update::4.487*1.27] mid_occ = 169\n",
      "[M::mm_idx_stat] kmer size: 15; skip: 10; is_hpc: 0; #seq: 1\n",
      "[M::mm_idx_stat::4.635*1.26] distinct minimizers: 20769240 (74.69% are singletons); average occurrences: 1.701; average spacing: 5.411\n",
      "[M::worker_pipeline::5.472*1.49] mapped 3239 sequences\n",
      "[M::main] Version: 2.14-r886-dirty\n",
      "[M::main] CMD: /home/anthony/Dropbox/Nanopore/minimap2/minimap2/minimap2 -ax map-ont --cs /home/anthony/Dropbox/Nanopore/training_data/res_net/human/ref/chr4.fasta /home/anthony/Dropbox/Nanopore/final_dir/test_data_card4/output/result/all.fastq\n",
      "[M::main] Real time: 5.501 sec; CPU: 8.182 sec; Peak RSS: 1.921 GB\n"
     ]
    }
   ],
   "source": [
    "\n",
    "!$minimap_loc -ax map-ont /home/anthony/Dropbox/Nanopore/training_data/res_net/human/ref/chr2.fasta /home/anthony/Dropbox/Nanopore/final_dir/test_data_card4/output/result/all.fastq --cs > resnetcard4_mapped_results/chr2_resnetcard4.sam\n",
    "\n",
    "!$minimap_loc -ax map-ont /home/anthony/Dropbox/Nanopore/training_data/res_net/human/ref/chr3.fasta /home/anthony/Dropbox/Nanopore/final_dir/test_data_card4/output/result/all.fastq --cs > resnetcard4_mapped_results/chr3_resnetcard4.sam\n",
    "\n",
    "!$minimap_loc -ax map-ont /home/anthony/Dropbox/Nanopore/training_data/res_net/human/ref/chr4.fasta /home/anthony/Dropbox/Nanopore/final_dir/test_data_card4/output/result/all.fastq --cs > resnetcard4_mapped_results/chr4_resnetcard4.sam\n"
   ]
  },
  {
   "cell_type": "code",
   "execution_count": null,
   "metadata": {},
   "outputs": [],
   "source": []
  }
 ],
 "metadata": {
  "kernelspec": {
   "display_name": "Python 3",
   "language": "python",
   "name": "python3"
  },
  "language_info": {
   "codemirror_mode": {
    "name": "ipython",
    "version": 3
   },
   "file_extension": ".py",
   "mimetype": "text/x-python",
   "name": "python",
   "nbconvert_exporter": "python",
   "pygments_lexer": "ipython3",
   "version": "3.6.6"
  }
 },
 "nbformat": 4,
 "nbformat_minor": 2
}
