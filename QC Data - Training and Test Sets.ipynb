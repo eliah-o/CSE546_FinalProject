{
 "cells": [
  {
   "cell_type": "markdown",
   "metadata": {},
   "source": [
    "# Run MinION_QC to get basic run information (read size and quality scores)\n",
    "\n",
    "## Test Set"
   ]
  },
  {
   "cell_type": "code",
   "execution_count": 11,
   "metadata": {},
   "outputs": [
    {
     "name": "stdout",
     "output_type": "stream",
     "text": [
      "10001\r\n"
     ]
    }
   ],
   "source": [
    "!ls -lh /home/anthony/Dropbox/Nanopore/training_data/res_net/human/fast5/Notts/test_subset_data/ | wc -l"
   ]
  },
  {
   "cell_type": "code",
   "execution_count": 34,
   "metadata": {},
   "outputs": [
    {
     "name": "stdout",
     "output_type": "stream",
     "text": [
      "INFO [2018-12-06 19:22:58] Loading input file: /home/anthony/Dropbox/Nanopore/training_data/res_net/human/fastq/test_subset_data/sequencing_summary.txt\n",
      "INFO [2018-12-06 19:22:59] MinION flowcell detected\n",
      "INFO [2018-12-06 19:22:59] test_subset_data: creating output directory:test_data_qc/test_subset_data\n",
      "INFO [2018-12-06 19:22:59] test_subset_data: summarising input file for flowcell\n",
      "INFO [2018-12-06 19:22:59] test_subset_data: plotting length histogram\n",
      "INFO [2018-12-06 19:23:00] test_subset_data: plotting mean Q score histogram\n",
      "INFO [2018-12-06 19:23:01] test_subset_data: plotting flowcell overview\n",
      "INFO [2018-12-06 19:23:08] test_subset_data: plotting flowcell yield over time\n",
      "INFO [2018-12-06 19:23:09] test_subset_data: plotting flowcell yield by read length\n",
      "INFO [2018-12-06 19:23:10] test_subset_data: plotting sequence length over time\n",
      "INFO [2018-12-06 19:23:11] test_subset_data: plotting Q score over time\n",
      "INFO [2018-12-06 19:23:11] test_subset_data: plotting reads per hour\n",
      "INFO [2018-12-06 19:23:12] test_subset_data: plotting read length vs. q score scatterplot\n",
      "INFO [2018-12-06 19:23:13] test_subset_data: plotting flowcell channels summary histograms\n",
      "INFO [2018-12-06 19:23:14] test_subset_data: plotting physical overview of output per channel\n"
     ]
    }
   ],
   "source": [
    "#INPUT_DATA = \"/home/anthony/Dropbox/Nanopore/training_data/res_net/human/fast5/Notts/test_subset_data/\"\n",
    "INPUT_DATA = \"/home/anthony/Dropbox/Nanopore/training_data/res_net/human/fastq/test_subset_data/sequencing_summary.txt\"\n",
    "\n",
    "OUTPUT_DIR=\"test_data_qc\"\n",
    "!mkdir -p $OUTPUT_DIR\n",
    "\n",
    "!Rscript ../software/minion_qc/MinIONQC.R -i $INPUT_DATA -o $OUTPUT_DIR -q 0"
   ]
  },
  {
   "cell_type": "markdown",
   "metadata": {},
   "source": [
    "## Training Set"
   ]
  },
  {
   "cell_type": "code",
   "execution_count": 44,
   "metadata": {},
   "outputs": [],
   "source": [
    "# List of Training Set Files\n",
    "filename = \"/home/anthony/Dropbox/Nanopore/final_dir/training_data/mapped_transferred_reads.txt\"\n",
    "inputfile = open(filename, \"r\")\n",
    "outputfile = open(\"mapped_training_reads.txt\", \"w\")\n",
    "\n",
    "counter = 0\n",
    "for line in inputfile:\n",
    "    \n",
    "    read_id = line.split(\"/\")[8].split()[0]\n",
    "    \n",
    "    outputfile.write(read_id + \"\\n\")\n",
    "    \n",
    "inputfile.close()\n",
    "outputfile.close()\n",
    "        "
   ]
  },
  {
   "cell_type": "code",
   "execution_count": 48,
   "metadata": {},
   "outputs": [
    {
     "name": "stdout",
     "output_type": "stream",
     "text": [
      "PLSP57501_20161028_FNFAB42451_MN16458_sequencing_run_Nott_Hum_R9_4_3_85272_ch206_read257_strand.fast5\n",
      "PLSP57501_20161028_FNFAB42451_MN16458_sequencing_run_Nott_Hum_R9_4_3_85272_ch45_read2668_strand.fast5\n",
      "PLSP57501_20161030_FNFAB42451_MN16458_sequencing_run_Nott_Hum_R9_4_3_jt_89717_ch511_read12893_strand.fast5\n",
      "PLSP57501_20161028_FNFAB42451_MN16458_sequencing_run_Nott_Hum_R9_4_3_85272_ch207_read2546_strand.fast5\n",
      "PLSP57501_20161028_FNFAB42451_MN16458_sequencing_run_Nott_Hum_R9_4_3_85272_ch347_read204_strand.fast5\n",
      "PLSP57501_20161028_FNFAB42451_MN16458_sequencing_run_Nott_Hum_R9_4_3_85272_ch20_read3556_strand.fast5\n",
      "PLSP57501_20161028_FNFAB42451_MN16458_sequencing_run_Nott_Hum_R9_4_3_85272_ch45_read1934_strand.fast5\n",
      "PLSP57501_20161028_FNFAB42451_MN16458_sequencing_run_Nott_Hum_R9_4_3_85272_ch65_read1283_strand.fast5\n",
      "PLSP57501_20161028_FNFAB42451_MN16458_sequencing_run_Nott_Hum_R9_4_3_85272_ch204_read2399_strand.fast5\n",
      "PLSP57501_20161029_FNFAB42451_MN16458_sequencing_run_Nott_Hum_R9_4_3_jt_12667_ch377_read459_strand.fast5\n",
      "1636 mapped_training_reads.txt\n"
     ]
    }
   ],
   "source": [
    "!head mapped_training_reads.txt\n",
    "!wc -l mapped_training_reads.txt"
   ]
  },
  {
   "cell_type": "code",
   "execution_count": 46,
   "metadata": {},
   "outputs": [],
   "source": [
    "!mkdir -p training_reads_only"
   ]
  },
  {
   "cell_type": "code",
   "execution_count": 51,
   "metadata": {},
   "outputs": [
    {
     "name": "stdout",
     "output_type": "stream",
     "text": [
      "1636\n"
     ]
    }
   ],
   "source": [
    "inputfile = open(\"mapped_training_reads.txt\", \"r\")\n",
    "\n",
    "training_list = []\n",
    "for line in inputfile:\n",
    "    \n",
    "    training_list.append(line.strip())\n",
    "    \n",
    "print (len(training_list))"
   ]
  },
  {
   "cell_type": "code",
   "execution_count": 52,
   "metadata": {},
   "outputs": [],
   "source": [
    "import os\n",
    "\n",
    "!mkdir -p training_reads_dir\n",
    "input_dir = \"/home/anthony/Dropbox/Nanopore/training_data/res_net/human/fast5/Notts/subset_data/\"\n",
    "\n",
    "for file in os.listdir(input_dir):\n",
    "    \n",
    "    if file in training_list:\n",
    "        \n",
    "        copy_file = input_dir + file\n",
    "        !cp  $copy_file training_reads_dir\n",
    "        \n"
   ]
  },
  {
   "cell_type": "code",
   "execution_count": 55,
   "metadata": {},
   "outputs": [
    {
     "name": "stdout",
     "output_type": "stream",
     "text": [
      "1637\r\n"
     ]
    }
   ],
   "source": [
    "!ls -lh training_reads_dir | wc -l"
   ]
  },
  {
   "cell_type": "markdown",
   "metadata": {},
   "source": [
    "#### Run in the albacore virtual env: \n",
    "\n",
    "```\n",
    "read_fast5_basecaller.py -i /home/anthony/Dropbox/Nanopore/final_dir/notebooks/training_reads_dir -t 4 -s /home/anthony/Dropbox/Nanopore/final_dir/notebooks/training_reads_dir/fastq -f FLO-MIN106 -k SQK-RAD002 -q 1000000\n",
    "```"
   ]
  },
  {
   "cell_type": "code",
   "execution_count": 56,
   "metadata": {},
   "outputs": [
    {
     "name": "stdout",
     "output_type": "stream",
     "text": [
      "INFO [2018-12-06 20:25:37] Loading input file: training_reads_dir/fastq/sequencing_summary.txt\n",
      "INFO [2018-12-06 20:25:37] MinION flowcell detected\n",
      "INFO [2018-12-06 20:25:37] fastq: creating output directory:training_data_qc/fastq\n",
      "INFO [2018-12-06 20:25:37] fastq: summarising input file for flowcell\n",
      "INFO [2018-12-06 20:25:37] fastq: plotting length histogram\n",
      "INFO [2018-12-06 20:25:39] fastq: plotting mean Q score histogram\n",
      "INFO [2018-12-06 20:25:40] fastq: plotting flowcell overview\n",
      "INFO [2018-12-06 20:25:46] fastq: plotting flowcell yield over time\n",
      "INFO [2018-12-06 20:25:46] fastq: plotting flowcell yield by read length\n",
      "INFO [2018-12-06 20:25:47] fastq: plotting sequence length over time\n",
      "INFO [2018-12-06 20:25:48] fastq: plotting Q score over time\n",
      "INFO [2018-12-06 20:25:48] fastq: plotting reads per hour\n",
      "INFO [2018-12-06 20:25:48] fastq: plotting read length vs. q score scatterplot\n",
      "INFO [2018-12-06 20:25:49] fastq: plotting flowcell channels summary histograms\n",
      "INFO [2018-12-06 20:25:50] fastq: plotting physical overview of output per channel\n"
     ]
    }
   ],
   "source": [
    "#INPUT_DATA = \"/home/anthony/Dropbox/Nanopore/training_data/res_net/human/fast5/Notts/test_subset_data/\"\n",
    "INPUT_DATA = \"training_reads_dir/fastq/sequencing_summary.txt\"\n",
    "\n",
    "OUTPUT_DIR=\"training_data_qc\"\n",
    "!mkdir -p $OUTPUT_DIR\n",
    "\n",
    "!Rscript ../software/minion_qc/MinIONQC.R -i $INPUT_DATA -o $OUTPUT_DIR -q 0"
   ]
  },
  {
   "cell_type": "code",
   "execution_count": null,
   "metadata": {},
   "outputs": [],
   "source": []
  }
 ],
 "metadata": {
  "kernelspec": {
   "display_name": "Python 3",
   "language": "python",
   "name": "python3"
  },
  "language_info": {
   "codemirror_mode": {
    "name": "ipython",
    "version": 3
   },
   "file_extension": ".py",
   "mimetype": "text/x-python",
   "name": "python",
   "nbconvert_exporter": "python",
   "pygments_lexer": "ipython3",
   "version": "3.6.6"
  }
 },
 "nbformat": 4,
 "nbformat_minor": 2
}
