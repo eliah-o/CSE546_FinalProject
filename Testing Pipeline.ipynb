{
 "cells": [
  {
   "cell_type": "markdown",
   "metadata": {},
   "source": [
    "Testing the Model\n",
    "Subset the last 10,000 reads for testing. \n",
    "> find . -maxdepth 1 -type f |tail -10000 |xargs cp -t ../test_subset_data/\n",
    "\n",
    "Basecalling Test Data with Chiron\n",
    "\n",
    "> python Chiron/chiron/entry.py call -i /home/anthony/Dropbox/Nanopore/training_data/res_net/human/fast5/Notts/test_subset_data -o chiron_test_output -m log_output/DNA_m1\n",
    "\n",
    "Checking Basecalling Accuracy of the Chiron Output\n",
    "Acquire a reference chromosome to map to:\n",
    "> scp eliah@nexus.gs.washington.edu:/net/gs/vol2/home/eliah/refs/chr1.fasta .\n",
    "\n",
    "Map Chiron output to reference chromosome\n",
    "> ./minimap2/minimap2/minimap2 -ax map-ont training_data/res_net/human/ref/chr1.fasta chiron_test_output/result/all.fastq --cs > chiron_test_output/test_mapped.sam\n"
   ]
  },
  {
   "cell_type": "code",
   "execution_count": null,
   "metadata": {
    "collapsed": true
   },
   "outputs": [],
   "source": []
  }
 ],
 "metadata": {
  "kernelspec": {
   "display_name": "Python 2",
   "language": "python",
   "name": "python2"
  },
  "language_info": {
   "codemirror_mode": {
    "name": "ipython",
    "version": 2
   },
   "file_extension": ".py",
   "mimetype": "text/x-python",
   "name": "python",
   "nbconvert_exporter": "python",
   "pygments_lexer": "ipython2",
   "version": "2.7.13"
  }
 },
 "nbformat": 4,
 "nbformat_minor": 2
}
