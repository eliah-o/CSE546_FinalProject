{
 "cells": [
  {
   "cell_type": "code",
   "execution_count": 1,
   "metadata": {},
   "outputs": [],
   "source": [
    "# Confirm the number of cigars vs samtools mapped reads value (987)\n",
    "\n",
    "def printNumMapped(filename):\n",
    "\n",
    "    inputfile = open(filename, \"r\")\n",
    "\n",
    "\n",
    "    unmapped_count = 0\n",
    "    mapped_count = 0\n",
    "    cs_count = 0\n",
    "\n",
    "    for line in inputfile:\n",
    "\n",
    "        # Header lines start with '@'\n",
    "        if line[0] is \"@\":\n",
    "            continue\n",
    "\n",
    "        fields = line.split()\n",
    "\n",
    "        cigar = fields[5]\n",
    "\n",
    "\n",
    "        if fields[5] is \"*\": \n",
    "            unmapped_count += 1\n",
    "        else: \n",
    "            mapped_count += 1\n",
    "            #if len(fields) > 20:\n",
    "                #print (fields[20])\n",
    "\n",
    "        i = 10\n",
    "        while i < len(fields):\n",
    "            entry = fields[i]\n",
    "            if \"cs:Z:\" in entry: \n",
    "                cs_count += 1\n",
    "                #print (entry)\n",
    "            i += 1\n",
    "\n",
    "    print (filename)\n",
    "    print (unmapped_count)\n",
    "    print (mapped_count)\n",
    "    print (cs_count)\n",
    "    print (\"\")\n",
    "    \n",
    "    return mapped_count"
   ]
  },
  {
   "cell_type": "code",
   "execution_count": 2,
   "metadata": {},
   "outputs": [],
   "source": [
    "import re\n",
    "\n",
    "def count_penalties(cs_string):\n",
    "    mismatches = 0\n",
    "    insertions = 0\n",
    "    deletions = 0\n",
    "    matches = 0\n",
    "    \n",
    "    fields = re.split('(\\W)', cs_string)\n",
    "    \n",
    "    i = 1\n",
    "    while i < len(fields):\n",
    "        \n",
    "        penalty_type = fields[i]\n",
    "        penalty_info = fields[i+1]\n",
    "        \n",
    "        # Mismatch\n",
    "        if penalty_type is \"*\":\n",
    "            mismatches += 1\n",
    "        # Insertion\n",
    "        elif penalty_type is \"+\":\n",
    "            insertions += 1\n",
    "        # Deletion\n",
    "        elif penalty_type is \"-\":\n",
    "            deletions += 1\n",
    "        # Match\n",
    "        elif penalty_type == \":\":\n",
    "            matches += int(penalty_info)\n",
    "            #print (penalty_info)\n",
    "        \n",
    "        i += 2\n",
    "        \n",
    "    return mismatches, insertions, deletions, matches\n",
    "    "
   ]
  },
  {
   "cell_type": "code",
   "execution_count": 3,
   "metadata": {},
   "outputs": [],
   "source": [
    "def summarize_penalties(filename):\n",
    "\n",
    "    inputfile = open(filename, \"r\")\n",
    "\n",
    "    total_bases = 0\n",
    "    num_mismatches = 0\n",
    "    num_insertions = 0\n",
    "    num_deletions = 0\n",
    "    num_matches = 0\n",
    "\n",
    "    for line in inputfile:\n",
    "\n",
    "        # Header lines start with '@'\n",
    "        if line[0] is \"@\":\n",
    "            continue\n",
    "\n",
    "        fields = line.split()\n",
    "        seq = fields[9]\n",
    "\n",
    "        # Find cs string, if present\n",
    "        # If not present, the read was not mapped\n",
    "        cs_string = \"None\"\n",
    "        i = 10\n",
    "        while i < len(fields):\n",
    "            entry = fields[i]\n",
    "            if \"cs:Z:\" in entry: \n",
    "                cs_string = entry\n",
    "                break\n",
    "            i += 1\n",
    "\n",
    "        # If read is mapped, count bases and penalties\n",
    "        if cs_string is not \"None\":\n",
    "            total_bases += len(seq)\n",
    "\n",
    "            accuracy_info = cs_string.split(\"cs:Z:\")[1]\n",
    "\n",
    "            mis, ins, delet, match = count_penalties(accuracy_info)\n",
    "\n",
    "            num_mismatches += mis\n",
    "            num_insertions += ins\n",
    "            num_deletions += delet\n",
    "            num_matches += match\n",
    "\n",
    "\n",
    "\n",
    "    # Error Rates\n",
    "    print (\"Mismatch Rate: \" + str(float(num_mismatches)/float(total_bases)))\n",
    "    print (\"Insertion Rate: \" + str(float(num_insertions)/float(total_bases)))\n",
    "    print (\"Deletion Rate: \" + str(float(num_deletions)/float(total_bases)))\n",
    "\n",
    "    # This considers the length of insertions and deletions\n",
    "    print ()\n",
    "    print (\"Num Matches: \" + str(num_matches))\n",
    "    print (\"Total Bases: \" + str(total_bases))\n",
    "    print (\"Match Rate: \" + str(float(num_matches)/float(total_bases)))\n",
    "\n",
    "    # This considers just the amount of insertions and deletions\n",
    "    all_types = num_deletions + num_insertions + num_mismatches + num_matches\n",
    "    match_rate_v2 = num_matches / float(all_types)\n",
    "    print ()\n",
    "    print (\"Match Rate V2: \" + str(match_rate_v2))\n",
    "    \n",
    "    return (all_types, num_matches, num_mismatches)\n"
   ]
  },
  {
   "cell_type": "code",
   "execution_count": 7,
   "metadata": {},
   "outputs": [],
   "source": [
    "def generateSummary(chrval):\n",
    "   \n",
    "    filename = \"resnetcard4_mapped_results/\" + chrval + \"_resnetcard4.sam\"\n",
    "    numMapped = printNumMapped(filename)\n",
    "    numBases, numMatches, numMismatches = summarize_penalties(filename)\n",
    "\n",
    "    print (numMapped)\n",
    "    return (numMapped, numBases, numMatches, numMismatches)\n"
   ]
  },
  {
   "cell_type": "code",
   "execution_count": 8,
   "metadata": {},
   "outputs": [
    {
     "name": "stdout",
     "output_type": "stream",
     "text": [
      "resnetcard4_mapped_results/chr1_resnetcard4.sam\n",
      "3131\n",
      "193\n",
      "193\n",
      "\n",
      "Mismatch Rate: 0.053641847623660026\n",
      "Insertion Rate: 0.009125892385656477\n",
      "Deletion Rate: 0.0562325741065446\n",
      "\n",
      "Num Matches: 489662\n",
      "Total Bases: 1028283\n",
      "Match Rate: 0.47619381045879394\n",
      "\n",
      "Match Rate V2: 0.8000647029220885\n",
      "193\n",
      "resnetcard4_mapped_results/chr2_resnetcard4.sam\n",
      "3102\n",
      "258\n",
      "258\n",
      "\n",
      "Mismatch Rate: 0.05240216262893389\n",
      "Insertion Rate: 0.00905275455812462\n",
      "Deletion Rate: 0.05233946162857515\n",
      "\n",
      "Num Matches: 564953\n",
      "Total Bases: 1259948\n",
      "Match Rate: 0.4483939019705575\n",
      "\n",
      "Match Rate V2: 0.7975867112411199\n",
      "258\n",
      "resnetcard4_mapped_results/chr3_resnetcard4.sam\n",
      "3122\n",
      "199\n",
      "199\n",
      "\n",
      "Mismatch Rate: 0.05224371568949513\n",
      "Insertion Rate: 0.009659081246022376\n",
      "Deletion Rate: 0.053120023773996654\n",
      "\n",
      "Num Matches: 510302\n",
      "Total Bases: 1117187\n",
      "Match Rate: 0.45677402261215\n",
      "\n",
      "Match Rate V2: 0.7988397067018992\n",
      "199\n",
      "resnetcard4_mapped_results/chr4_resnetcard4.sam\n",
      "3136\n",
      "174\n",
      "174\n",
      "\n",
      "Mismatch Rate: 0.04866614665353847\n",
      "Insertion Rate: 0.008971701908539987\n",
      "Deletion Rate: 0.050372747115255044\n",
      "\n",
      "Num Matches: 445767\n",
      "Total Bases: 1016641\n",
      "Match Rate: 0.4384704138432347\n",
      "\n",
      "Match Rate V2: 0.8023525176618819\n",
      "174\n",
      "Final Sums:\n",
      "772\n",
      "2448112\n",
      "1958648\n",
      "220636\n"
     ]
    }
   ],
   "source": [
    "mappedSum = 0\n",
    "totalBases = 0\n",
    "totalMatches = 0\n",
    "totalMismatches = 0\n",
    "\n",
    "mapped, bases, matched, mismatched = generateSummary(\"chr1\")\n",
    "mappedSum += mapped; totalBases += bases; totalMatches += matched; totalMismatches += mismatched\n",
    "\n",
    "generateSummary(\"chr2\")\n",
    "mappedSum += mapped; totalBases += bases; totalMatches += matched; totalMismatches += mismatched\n",
    "generateSummary(\"chr3\")\n",
    "mappedSum += mapped; totalBases += bases; totalMatches += matched; totalMismatches += mismatched\n",
    "generateSummary(\"chr4\")\n",
    "mappedSum += mapped; totalBases += bases; totalMatches += matched; totalMismatches += mismatched\n",
    "\n",
    "\n",
    "\n",
    "print (\"Final Sums:\")\n",
    "print (mappedSum)\n",
    "print (totalBases)\n",
    "print (totalMatches)\n",
    "print (totalMismatches)"
   ]
  },
  {
   "cell_type": "code",
   "execution_count": 9,
   "metadata": {},
   "outputs": [
    {
     "data": {
      "text/plain": [
       "0.8000647029220885"
      ]
     },
     "execution_count": 9,
     "metadata": {},
     "output_type": "execute_result"
    }
   ],
   "source": [
    "#Match Rate\n",
    "1958648 / 2448112"
   ]
  },
  {
   "cell_type": "code",
   "execution_count": 10,
   "metadata": {},
   "outputs": [
    {
     "data": {
      "text/plain": [
       "0.09012496160306391"
      ]
     },
     "execution_count": 10,
     "metadata": {},
     "output_type": "execute_result"
    }
   ],
   "source": [
    "#Mismatch Rate\n",
    "220636 / 2448112"
   ]
  },
  {
   "cell_type": "code",
   "execution_count": 11,
   "metadata": {},
   "outputs": [
    {
     "data": {
      "text/plain": [
       "0.10981033547484756"
      ]
     },
     "execution_count": 11,
     "metadata": {},
     "output_type": "execute_result"
    }
   ],
   "source": [
    "# Indel Rate\n",
    "(2448112 - 220636 - 1958648) / 2448112"
   ]
  },
  {
   "cell_type": "code",
   "execution_count": null,
   "metadata": {},
   "outputs": [],
   "source": []
  }
 ],
 "metadata": {
  "kernelspec": {
   "display_name": "Python 3",
   "language": "python",
   "name": "python3"
  },
  "language_info": {
   "codemirror_mode": {
    "name": "ipython",
    "version": 3
   },
   "file_extension": ".py",
   "mimetype": "text/x-python",
   "name": "python",
   "nbconvert_exporter": "python",
   "pygments_lexer": "ipython3",
   "version": "3.6.6"
  }
 },
 "nbformat": 4,
 "nbformat_minor": 2
}
