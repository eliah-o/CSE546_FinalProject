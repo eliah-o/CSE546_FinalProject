{
 "cells": [
  {
   "cell_type": "markdown",
   "metadata": {},
   "source": [
    "Load Conda Environment\n",
    "Tensorflow environment (python 2)\n",
    "> source activate eliah_tf\n",
    "\n",
    "Albacore environment (python 3.4.5)\n",
    "> source activate eliah_albacore\n",
    "\n",
    "Installed Tombo\n",
    "> git clone https://github.com/nanoporetech/tombo.git\n",
    "> python setup.py build\n",
    "> python setup.py install\n",
    "\n",
    "Subset Data\n",
    "Copy first 10,000 files in a directory to a new destination\n",
    "> find . -maxdepth 1 -type f |head -10000| xargs cp -t \"$destdir\"\n",
    "\n",
    "\n",
    "Albacore Basecalling\n",
    "read_fast5_basecaller.py [-h] [-l] [-v] -i INPUT -t WORKER_THREADS -s\n",
    "                                SAVE_PATH [-f FLOWCELL] [-k KIT] [--barcoding]\n",
    "                                [-c CONFIG] [-d DATA_PATH] [-b] [-r]\n",
    "                                [-n FILES_PER_BATCH_FOLDER] [-o OUTPUT_FORMAT]\n",
    "                                [-q READS_PER_FASTQ_BATCH]\n",
    "\n",
    "Human\n",
    "> read_fast5_basecaller.py -i /home/anthony/Dropbox/Nanopore/training_data/res_net/human/fast5/Notts/subset_data -t 4 -s /home/anthony/Dropbox/Nanopore/training_data/res_net/human/fastq/subset_data -f FLO-MIN106 -k SQK-RAD002 -q 1000000\n",
    "\n",
    "Concatenate all files in directory\n",
    "> cat $(ls -t) > all.fastq\n",
    "\n",
    "Tombo Preprocessing\n",
    "> tombo preprocess annotate_raw_with_fastqs --fast5-basedir /home/anthony/Dropbox/Nanopore/training_data/res_net/human/fast5/Notts/subset_data --fastq-filenames /home/anthony/Dropbox/Nanopore/training_data/res_net/human/fastq/subset_data/workspace/pass/all.fastq\n",
    "\n",
    "Download reference from GS cluster: \n",
    "> scp eliah@nexus.gs.washington.edu:/net/gs/vol2/home/eliah/refs/chr10.fasta .\n",
    "\n",
    "> tombo resquiggle /home/anthony/Dropbox/Nanopore/training_data/res_net/human/fast5/Notts/subset_data /home/anthony/Dropbox/Nanopore/training_data/res_net/human/ref/chr10.fasta --processes 4 --num-most-common-errors 5\n",
    "\n",
    "The process was killed on Anthony’s computer. Trying on cluster.\n",
    "Tombo build was incompatible with cluster environment. \n",
    "Going back to Anthony’s computer and will map to a single chromosome. \n",
    "\n",
    "\n",
    "Train commands\n",
    "\n",
    "> python Chiron/chiron/utils/raw.py --input /home/anthony/Dropbox/Nanopore/training_data/res_net/human/fast5/Notts/subset_data --output raw_output --mode dna\n",
    "\n",
    "> python Chiron/chiron/utils/file_batch.py --input /home/anthony/Dropbox/Nanopore/training_data/res_net/human/fast5/Notts/subset_data --output batch_output --length 400 --mode dna\n"
   ]
  },
  {
   "cell_type": "code",
   "execution_count": null,
   "metadata": {
    "collapsed": true
   },
   "outputs": [],
   "source": []
  }
 ],
 "metadata": {
  "kernelspec": {
   "display_name": "Python 2",
   "language": "python",
   "name": "python2"
  },
  "language_info": {
   "codemirror_mode": {
    "name": "ipython",
    "version": 2
   },
   "file_extension": ".py",
   "mimetype": "text/x-python",
   "name": "python",
   "nbconvert_exporter": "python",
   "pygments_lexer": "ipython2",
   "version": "2.7.13"
  }
 },
 "nbformat": 4,
 "nbformat_minor": 2
}
