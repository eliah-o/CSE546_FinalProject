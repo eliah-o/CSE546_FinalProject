{
 "cells": [
  {
   "cell_type": "code",
   "execution_count": 1,
   "metadata": {},
   "outputs": [],
   "source": [
    "# Confirm the number of cigars vs samtools mapped reads value (987)\n",
    "\n",
    "def printNumMapped(filename):\n",
    "\n",
    "    inputfile = open(filename, \"r\")\n",
    "\n",
    "\n",
    "    unmapped_count = 0\n",
    "    mapped_count = 0\n",
    "    cs_count = 0\n",
    "\n",
    "    for line in inputfile:\n",
    "\n",
    "        # Header lines start with '@'\n",
    "        if line[0] is \"@\":\n",
    "            continue\n",
    "\n",
    "        fields = line.split()\n",
    "\n",
    "        cigar = fields[5]\n",
    "\n",
    "\n",
    "        if fields[5] is \"*\": \n",
    "            unmapped_count += 1\n",
    "        else: \n",
    "            mapped_count += 1\n",
    "            #if len(fields) > 20:\n",
    "                #print (fields[20])\n",
    "\n",
    "        i = 10\n",
    "        while i < len(fields):\n",
    "            entry = fields[i]\n",
    "            if \"cs:Z:\" in entry: \n",
    "                cs_count += 1\n",
    "                #print (entry)\n",
    "            i += 1\n",
    "\n",
    "    print (filename)\n",
    "    print (unmapped_count)\n",
    "    print (mapped_count)\n",
    "    print (cs_count)\n",
    "    print (\"\")\n",
    "    \n",
    "    return mapped_count"
   ]
  },
  {
   "cell_type": "code",
   "execution_count": 2,
   "metadata": {},
   "outputs": [],
   "source": [
    "import re\n",
    "\n",
    "def count_penalties(cs_string):\n",
    "    mismatches = 0\n",
    "    insertions = 0\n",
    "    deletions = 0\n",
    "    matches = 0\n",
    "    \n",
    "    fields = re.split('(\\W)', cs_string)\n",
    "    \n",
    "    i = 1\n",
    "    while i < len(fields):\n",
    "        \n",
    "        penalty_type = fields[i]\n",
    "        penalty_info = fields[i+1]\n",
    "        \n",
    "        # Mismatch\n",
    "        if penalty_type is \"*\":\n",
    "            mismatches += 1\n",
    "        # Insertion\n",
    "        elif penalty_type is \"+\":\n",
    "            insertions += 1\n",
    "        # Deletion\n",
    "        elif penalty_type is \"-\":\n",
    "            deletions += 1\n",
    "        # Match\n",
    "        elif penalty_type == \":\":\n",
    "            matches += int(penalty_info)\n",
    "            #print (penalty_info)\n",
    "        \n",
    "        i += 2\n",
    "        \n",
    "    return mismatches, insertions, deletions, matches\n",
    "    "
   ]
  },
  {
   "cell_type": "code",
   "execution_count": 3,
   "metadata": {},
   "outputs": [],
   "source": [
    "def summarize_penalties(filename):\n",
    "\n",
    "    inputfile = open(filename, \"r\")\n",
    "\n",
    "    total_bases = 0\n",
    "    num_mismatches = 0\n",
    "    num_insertions = 0\n",
    "    num_deletions = 0\n",
    "    num_matches = 0\n",
    "\n",
    "    for line in inputfile:\n",
    "\n",
    "        # Header lines start with '@'\n",
    "        if line[0] is \"@\":\n",
    "            continue\n",
    "\n",
    "        fields = line.split()\n",
    "        seq = fields[9]\n",
    "\n",
    "        # Find cs string, if present\n",
    "        # If not present, the read was not mapped\n",
    "        cs_string = \"None\"\n",
    "        i = 10\n",
    "        while i < len(fields):\n",
    "            entry = fields[i]\n",
    "            if \"cs:Z:\" in entry: \n",
    "                cs_string = entry\n",
    "                break\n",
    "            i += 1\n",
    "\n",
    "        # If read is mapped, count bases and penalties\n",
    "        if cs_string is not \"None\":\n",
    "            total_bases += len(seq)\n",
    "\n",
    "            accuracy_info = cs_string.split(\"cs:Z:\")[1]\n",
    "\n",
    "            mis, ins, delet, match = count_penalties(accuracy_info)\n",
    "\n",
    "            num_mismatches += mis\n",
    "            num_insertions += ins\n",
    "            num_deletions += delet\n",
    "            num_matches += match\n",
    "\n",
    "\n",
    "\n",
    "    # Error Rates\n",
    "    print (\"Mismatch Rate: \" + str(float(num_mismatches)/float(total_bases)))\n",
    "    print (\"Insertion Rate: \" + str(float(num_insertions)/float(total_bases)))\n",
    "    print (\"Deletion Rate: \" + str(float(num_deletions)/float(total_bases)))\n",
    "\n",
    "    # This considers the length of insertions and deletions\n",
    "    print ()\n",
    "    print (\"Num Matches: \" + str(num_matches))\n",
    "    print (\"Total Bases: \" + str(total_bases))\n",
    "    print (\"Match Rate: \" + str(float(num_matches)/float(total_bases)))\n",
    "\n",
    "    # This considers just the amount of insertions and deletions\n",
    "    all_types = num_deletions + num_insertions + num_mismatches + num_matches\n",
    "    match_rate_v2 = num_matches / float(all_types)\n",
    "    print ()\n",
    "    print (\"Match Rate V2: \" + str(match_rate_v2))\n",
    "    \n",
    "    return (all_types, num_matches, num_mismatches)\n"
   ]
  },
  {
   "cell_type": "code",
   "execution_count": 5,
   "metadata": {},
   "outputs": [],
   "source": [
    "def generateSummary(chrval):\n",
    "    \n",
    "    filename = \"resnext_card8_mapped_results/\" + chrval + \"_resnet.sam\"\n",
    "    numMapped = printNumMapped(filename)\n",
    "    numBases, numMatches, numMismatches = summarize_penalties(filename)\n",
    "\n",
    "    print (numMapped)\n",
    "    return (numMapped, numBases, numMatches, numMismatches)\n"
   ]
  },
  {
   "cell_type": "code",
   "execution_count": 6,
   "metadata": {},
   "outputs": [
    {
     "name": "stdout",
     "output_type": "stream",
     "text": [
      "resnext_card8_mapped_results/chr1_resnet.sam\n",
      "4743\n",
      "90\n",
      "90\n",
      "\n",
      "Mismatch Rate: 0.06112205266456694\n",
      "Insertion Rate: 0.014587523831752417\n",
      "Deletion Rate: 0.05414495474917327\n",
      "\n",
      "Num Matches: 357935\n",
      "Total Bases: 762638\n",
      "Match Rate: 0.46933800833422934\n",
      "\n",
      "Match Rate V2: 0.7832841321145728\n",
      "90\n",
      "resnext_card8_mapped_results/chr2_resnet.sam\n",
      "4725\n",
      "151\n",
      "151\n",
      "\n",
      "Mismatch Rate: 0.05550245859238134\n",
      "Insertion Rate: 0.013137171570710732\n",
      "Deletion Rate: 0.049202616088443944\n",
      "\n",
      "Num Matches: 450108\n",
      "Total Bases: 1040026\n",
      "Match Rate: 0.4327853342127985\n",
      "\n",
      "Match Rate V2: 0.7859855727674198\n",
      "151\n",
      "resnext_card8_mapped_results/chr3_resnet.sam\n",
      "4749\n",
      "95\n",
      "95\n",
      "\n",
      "Mismatch Rate: 0.06186150903831868\n",
      "Insertion Rate: 0.013822226202957803\n",
      "Deletion Rate: 0.05749118823200898\n",
      "\n",
      "Num Matches: 372696\n",
      "Total Bases: 759212\n",
      "Match Rate: 0.4908984578747438\n",
      "\n",
      "Match Rate V2: 0.7866037433200226\n",
      "95\n",
      "resnext_card8_mapped_results/chr4_resnet.sam\n",
      "4752\n",
      "78\n",
      "78\n",
      "\n",
      "Mismatch Rate: 0.06512429666410087\n",
      "Insertion Rate: 0.014257797677771876\n",
      "Deletion Rate: 0.0614260236993029\n",
      "\n",
      "Num Matches: 382853\n",
      "Total Bases: 737912\n",
      "Match Rate: 0.5188328689599844\n",
      "\n",
      "Match Rate V2: 0.7865382521463482\n",
      "78\n",
      "Final Sums:\n",
      "360\n",
      "1827868\n",
      "1431740\n",
      "186456\n"
     ]
    }
   ],
   "source": [
    "mappedSum = 0\n",
    "totalBases = 0\n",
    "totalMatches = 0\n",
    "totalMismatches = 0\n",
    "\n",
    "mapped, bases, matched, mismatched = generateSummary(\"chr1\")\n",
    "mappedSum += mapped; totalBases += bases; totalMatches += matched; totalMismatches += mismatched\n",
    "\n",
    "generateSummary(\"chr2\")\n",
    "mappedSum += mapped; totalBases += bases; totalMatches += matched; totalMismatches += mismatched\n",
    "generateSummary(\"chr3\")\n",
    "mappedSum += mapped; totalBases += bases; totalMatches += matched; totalMismatches += mismatched\n",
    "generateSummary(\"chr4\")\n",
    "mappedSum += mapped; totalBases += bases; totalMatches += matched; totalMismatches += mismatched\n",
    "\n",
    "\n",
    "\n",
    "print (\"Final Sums:\")\n",
    "print (mappedSum)\n",
    "print (totalBases)\n",
    "print (totalMatches)\n",
    "print (totalMismatches)"
   ]
  },
  {
   "cell_type": "code",
   "execution_count": 10,
   "metadata": {},
   "outputs": [
    {
     "name": "stdout",
     "output_type": "stream",
     "text": [
      "Match rate\n"
     ]
    },
    {
     "data": {
      "text/plain": [
       "0.7832841321145728"
      ]
     },
     "execution_count": 10,
     "metadata": {},
     "output_type": "execute_result"
    }
   ],
   "source": [
    "print (\"Match rate\")\n",
    "1431740/1827868"
   ]
  },
  {
   "cell_type": "code",
   "execution_count": 11,
   "metadata": {},
   "outputs": [
    {
     "name": "stdout",
     "output_type": "stream",
     "text": [
      "Mismatch rate\n"
     ]
    },
    {
     "data": {
      "text/plain": [
       "0.1020073659585922"
      ]
     },
     "execution_count": 11,
     "metadata": {},
     "output_type": "execute_result"
    }
   ],
   "source": [
    "print (\"Mismatch rate\")\n",
    "186456/1827868"
   ]
  },
  {
   "cell_type": "code",
   "execution_count": 12,
   "metadata": {},
   "outputs": [
    {
     "name": "stdout",
     "output_type": "stream",
     "text": [
      "Indel rate\n"
     ]
    },
    {
     "data": {
      "text/plain": [
       "0.11470850192683497"
      ]
     },
     "execution_count": 12,
     "metadata": {},
     "output_type": "execute_result"
    }
   ],
   "source": [
    "print (\"Indel rate\")\n",
    "(1827868 - 186456 - 1431740)/1827868"
   ]
  },
  {
   "cell_type": "code",
   "execution_count": null,
   "metadata": {},
   "outputs": [],
   "source": []
  }
 ],
 "metadata": {
  "kernelspec": {
   "display_name": "Python 3",
   "language": "python",
   "name": "python3"
  },
  "language_info": {
   "codemirror_mode": {
    "name": "ipython",
    "version": 3
   },
   "file_extension": ".py",
   "mimetype": "text/x-python",
   "name": "python",
   "nbconvert_exporter": "python",
   "pygments_lexer": "ipython3",
   "version": "3.6.6"
  }
 },
 "nbformat": 4,
 "nbformat_minor": 2
}
