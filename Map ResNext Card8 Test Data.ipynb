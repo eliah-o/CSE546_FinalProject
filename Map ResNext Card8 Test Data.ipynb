{
 "cells": [
  {
   "cell_type": "code",
   "execution_count": 9,
   "metadata": {},
   "outputs": [],
   "source": [
    "# Extract the first 4820 reads\n",
    "\n",
    "!mkdir -p resnextcard8_test_fastqs\n",
    "\n",
    "!find ../test_data/output/result/ -maxdepth 1 -type f |tail -4820 |xargs cp -t resnextcard8_test_fastqs"
   ]
  },
  {
   "cell_type": "code",
   "execution_count": 10,
   "metadata": {},
   "outputs": [
    {
     "name": "stdout",
     "output_type": "stream",
     "text": [
      "4820\r\n"
     ]
    }
   ],
   "source": [
    "!ls resnextcard8_test_fastqs/ | wc -l"
   ]
  },
  {
   "cell_type": "code",
   "execution_count": 11,
   "metadata": {},
   "outputs": [
    {
     "name": "stdout",
     "output_type": "stream",
     "text": [
      "[M::mm_idx_gen::4.648*1.00] collected minimizers\n",
      "[M::mm_idx_gen::5.468*1.30] sorted minimizers\n",
      "[M::main::5.468*1.30] loaded/built the index for 1 target sequence(s)\n",
      "[M::mm_mapopt_update::5.689*1.28] mid_occ = 189\n",
      "[M::mm_idx_stat] kmer size: 15; skip: 10; is_hpc: 0; #seq: 1\n",
      "[M::mm_idx_stat::5.829*1.28] distinct minimizers: 24132785 (73.47% are singletons); average occurrences: 1.759; average spacing: 5.871\n",
      "[M::worker_pipeline::6.873*1.51] mapped 4820 sequences\n",
      "[M::main] Version: 2.14-r886-dirty\n",
      "[M::main] CMD: /home/anthony/Dropbox/Nanopore/minimap2/minimap2/minimap2 -ax map-ont --cs /home/anthony/Dropbox/Nanopore/training_data/res_net/human/ref/chr1.fasta resnextcard8_test_fastqs/all.fastq\n",
      "[M::main] Real time: 6.893 sec; CPU: 10.416 sec; Peak RSS: 1.960 GB\n"
     ]
    }
   ],
   "source": [
    "minimap_loc = \"/home/anthony/Dropbox/Nanopore/minimap2/minimap2/minimap2\"\n",
    "\n",
    "!mkdir -p resnext_card8_mapped_results\n",
    "\n",
    "!$minimap_loc -ax map-ont /home/anthony/Dropbox/Nanopore/training_data/res_net/human/ref/chr1.fasta resnextcard8_test_fastqs/all.fastq --cs >  resnext_card8_mapped_results/chr1_resnet.sam"
   ]
  },
  {
   "cell_type": "code",
   "execution_count": 12,
   "metadata": {},
   "outputs": [
    {
     "name": "stdout",
     "output_type": "stream",
     "text": [
      "[M::mm_idx_gen::4.829*1.00] collected minimizers\n",
      "[M::mm_idx_gen::5.701*1.30] sorted minimizers\n",
      "[M::main::5.702*1.30] loaded/built the index for 1 target sequence(s)\n",
      "[M::mm_mapopt_update::5.929*1.29] mid_occ = 169\n",
      "[M::mm_idx_stat] kmer size: 15; skip: 10; is_hpc: 0; #seq: 1\n",
      "[M::mm_idx_stat::6.108*1.28] distinct minimizers: 25485676 (72.26% are singletons); average occurrences: 1.760; average spacing: 5.420\n",
      "[M::worker_pipeline::7.487*1.57] mapped 4820 sequences\n",
      "[M::main] Version: 2.14-r886-dirty\n",
      "[M::main] CMD: /home/anthony/Dropbox/Nanopore/minimap2/minimap2/minimap2 -ax map-ont --cs /home/anthony/Dropbox/Nanopore/training_data/res_net/human/ref/chr2.fasta resnextcard8_test_fastqs/all.fastq\n",
      "[M::main] Real time: 7.517 sec; CPU: 11.762 sec; Peak RSS: 2.235 GB\n",
      "[M::mm_idx_gen::3.891*1.00] collected minimizers\n",
      "[M::mm_idx_gen::4.607*1.31] sorted minimizers\n",
      "[M::main::4.608*1.31] loaded/built the index for 1 target sequence(s)\n",
      "[M::mm_mapopt_update::4.853*1.29] mid_occ = 168\n",
      "[M::mm_idx_stat] kmer size: 15; skip: 10; is_hpc: 0; #seq: 1\n",
      "[M::mm_idx_stat::4.999*1.29] distinct minimizers: 21866272 (75.02% are singletons); average occurrences: 1.678; average spacing: 5.397\n",
      "[M::worker_pipeline::6.164*1.57] mapped 4820 sequences\n",
      "[M::main] Version: 2.14-r886-dirty\n",
      "[M::main] CMD: /home/anthony/Dropbox/Nanopore/minimap2/minimap2/minimap2 -ax map-ont --cs /home/anthony/Dropbox/Nanopore/training_data/res_net/human/ref/chr3.fasta resnextcard8_test_fastqs/all.fastq\n",
      "[M::main] Real time: 6.186 sec; CPU: 9.705 sec; Peak RSS: 1.802 GB\n",
      "[M::mm_idx_gen::3.713*1.00] collected minimizers\n",
      "[M::mm_idx_gen::4.417*1.32] sorted minimizers\n",
      "[M::main::4.417*1.32] loaded/built the index for 1 target sequence(s)\n",
      "[M::mm_mapopt_update::4.655*1.30] mid_occ = 169\n",
      "[M::mm_idx_stat] kmer size: 15; skip: 10; is_hpc: 0; #seq: 1\n",
      "[M::mm_idx_stat::4.807*1.29] distinct minimizers: 20769240 (74.69% are singletons); average occurrences: 1.701; average spacing: 5.411\n",
      "[M::worker_pipeline::5.911*1.58] mapped 4820 sequences\n",
      "[M::main] Version: 2.14-r886-dirty\n",
      "[M::main] CMD: /home/anthony/Dropbox/Nanopore/minimap2/minimap2/minimap2 -ax map-ont --cs /home/anthony/Dropbox/Nanopore/training_data/res_net/human/ref/chr4.fasta resnextcard8_test_fastqs/all.fastq\n",
      "[M::main] Real time: 5.930 sec; CPU: 9.354 sec; Peak RSS: 1.808 GB\n"
     ]
    }
   ],
   "source": [
    "\n",
    "!$minimap_loc -ax map-ont /home/anthony/Dropbox/Nanopore/training_data/res_net/human/ref/chr2.fasta resnextcard8_test_fastqs/all.fastq --cs >  resnext_card8_mapped_results/chr2_resnet.sam\n",
    "\n",
    "!$minimap_loc -ax map-ont /home/anthony/Dropbox/Nanopore/training_data/res_net/human/ref/chr3.fasta resnextcard8_test_fastqs/all.fastq --cs >  resnext_card8_mapped_results/chr3_resnet.sam\n",
    "\n",
    "!$minimap_loc -ax map-ont /home/anthony/Dropbox/Nanopore/training_data/res_net/human/ref/chr4.fasta resnextcard8_test_fastqs/all.fastq --cs >  resnext_card8_mapped_results/chr4_resnet.sam"
   ]
  },
  {
   "cell_type": "code",
   "execution_count": null,
   "metadata": {},
   "outputs": [],
   "source": []
  }
 ],
 "metadata": {
  "kernelspec": {
   "display_name": "Python 3",
   "language": "python",
   "name": "python3"
  },
  "language_info": {
   "codemirror_mode": {
    "name": "ipython",
    "version": 3
   },
   "file_extension": ".py",
   "mimetype": "text/x-python",
   "name": "python",
   "nbconvert_exporter": "python",
   "pygments_lexer": "ipython3",
   "version": "3.6.6"
  }
 },
 "nbformat": 4,
 "nbformat_minor": 2
}
